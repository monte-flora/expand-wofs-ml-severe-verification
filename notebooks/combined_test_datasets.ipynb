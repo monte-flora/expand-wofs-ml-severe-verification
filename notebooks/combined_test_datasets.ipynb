{
 "cells": [
  {
   "cell_type": "code",
   "execution_count": 1,
   "id": "c717b344",
   "metadata": {},
   "outputs": [],
   "source": [
    "import pandas as pd \n",
    "from os.path import join\n",
    "import joblib\n",
    "import numpy as np"
   ]
  },
  {
   "cell_type": "markdown",
   "id": "dad30119",
   "metadata": {},
   "source": [
    "## Compute calibrated baseline predictions. "
   ]
  },
  {
   "cell_type": "code",
   "execution_count": 2,
   "id": "0c8567ad",
   "metadata": {},
   "outputs": [],
   "source": [
    "baseline_cols = { 'tornado'     : 'uh_probs_>180_prob_max',\n",
    "                  'severe_hail' : 'hail_probs_>1.0_prob_max',\n",
    "                  'severe_wind' : 'wnd_probs_>40_prob_max',\n",
    "                }"
   ]
  },
  {
   "cell_type": "code",
   "execution_count": 13,
   "id": "a127d89c",
   "metadata": {},
   "outputs": [],
   "source": [
    "path = '/work/mflora/ML_DATA/DATA'\n",
    "\n",
    "lead_time = 'second_hour'\n",
    "year = '2021'\n",
    "df = pd.read_pickle(join(path, f'ml_dataset_{lead_time}_{year}_reverted_names.pkl'))\n"
   ]
  },
  {
   "cell_type": "code",
   "execution_count": 14,
   "id": "e1b7fc50",
   "metadata": {},
   "outputs": [
    {
     "data": {
      "text/plain": [
       "array([12, 13, 14, 15, 16, 17, 18, 19, 20, 21, 22, 23, 24])"
      ]
     },
     "execution_count": 14,
     "metadata": {},
     "output_type": "execute_result"
    }
   ],
   "source": [
    "np.unique(df['FCST_TIME_IDX'])"
   ]
  },
  {
   "cell_type": "code",
   "execution_count": 3,
   "id": "d6c144a3",
   "metadata": {},
   "outputs": [
    {
     "name": "stderr",
     "output_type": "stream",
     "text": [
      "/home/monte.flora/miniconda3/envs/wofs_test/lib/python3.8/site-packages/sklearn/base.py:329: UserWarning: Trying to unpickle estimator IsotonicRegression from version 0.24.2 when using version 1.0.2. This might lead to breaking code or invalid results. Use at your own risk. For more info please refer to:\n",
      "https://scikit-learn.org/stable/modules/model_persistence.html#security-maintainability-limitations\n",
      "  warnings.warn(\n",
      "/tmp/ipykernel_956927/573257866.py:21: PerformanceWarning: DataFrame is highly fragmented.  This is usually the result of calling `frame.insert` many times, which has poor performance.  Consider joining all columns at once using pd.concat(axis=1) instead. To get a de-fragmented frame, use `newframe = frame.copy()`\n",
      "  df[f'Baseline__{target}'] = predictions\n"
     ]
    },
    {
     "name": "stdout",
     "output_type": "stream",
     "text": [
      "0\n",
      "Saving /work/mflora/ML_DATA/test_data/test_ml_dataset_first_hour_tornado.feather...\n"
     ]
    },
    {
     "name": "stderr",
     "output_type": "stream",
     "text": [
      "/home/monte.flora/miniconda3/envs/wofs_test/lib/python3.8/site-packages/sklearn/base.py:329: UserWarning: Trying to unpickle estimator IsotonicRegression from version 0.24.2 when using version 1.0.2. This might lead to breaking code or invalid results. Use at your own risk. For more info please refer to:\n",
      "https://scikit-learn.org/stable/modules/model_persistence.html#security-maintainability-limitations\n",
      "  warnings.warn(\n",
      "/tmp/ipykernel_956927/573257866.py:21: PerformanceWarning: DataFrame is highly fragmented.  This is usually the result of calling `frame.insert` many times, which has poor performance.  Consider joining all columns at once using pd.concat(axis=1) instead. To get a de-fragmented frame, use `newframe = frame.copy()`\n",
      "  df[f'Baseline__{target}'] = predictions\n"
     ]
    },
    {
     "name": "stdout",
     "output_type": "stream",
     "text": [
      "0\n",
      "Saving /work/mflora/ML_DATA/test_data/test_ml_dataset_first_hour_severe_hail.feather...\n"
     ]
    },
    {
     "name": "stderr",
     "output_type": "stream",
     "text": [
      "/home/monte.flora/miniconda3/envs/wofs_test/lib/python3.8/site-packages/sklearn/base.py:329: UserWarning: Trying to unpickle estimator IsotonicRegression from version 0.24.2 when using version 1.0.2. This might lead to breaking code or invalid results. Use at your own risk. For more info please refer to:\n",
      "https://scikit-learn.org/stable/modules/model_persistence.html#security-maintainability-limitations\n",
      "  warnings.warn(\n",
      "/tmp/ipykernel_956927/573257866.py:21: PerformanceWarning: DataFrame is highly fragmented.  This is usually the result of calling `frame.insert` many times, which has poor performance.  Consider joining all columns at once using pd.concat(axis=1) instead. To get a de-fragmented frame, use `newframe = frame.copy()`\n",
      "  df[f'Baseline__{target}'] = predictions\n"
     ]
    },
    {
     "name": "stdout",
     "output_type": "stream",
     "text": [
      "0\n",
      "Saving /work/mflora/ML_DATA/test_data/test_ml_dataset_first_hour_severe_wind.feather...\n"
     ]
    },
    {
     "name": "stderr",
     "output_type": "stream",
     "text": [
      "/home/monte.flora/miniconda3/envs/wofs_test/lib/python3.8/site-packages/sklearn/base.py:329: UserWarning: Trying to unpickle estimator IsotonicRegression from version 0.24.2 when using version 1.0.2. This might lead to breaking code or invalid results. Use at your own risk. For more info please refer to:\n",
      "https://scikit-learn.org/stable/modules/model_persistence.html#security-maintainability-limitations\n",
      "  warnings.warn(\n",
      "/tmp/ipykernel_956927/573257866.py:21: PerformanceWarning: DataFrame is highly fragmented.  This is usually the result of calling `frame.insert` many times, which has poor performance.  Consider joining all columns at once using pd.concat(axis=1) instead. To get a de-fragmented frame, use `newframe = frame.copy()`\n",
      "  df[f'Baseline__{target}'] = predictions\n"
     ]
    },
    {
     "name": "stdout",
     "output_type": "stream",
     "text": [
      "0\n",
      "Saving /work/mflora/ML_DATA/test_data/test_ml_dataset_second_hour_tornado.feather...\n"
     ]
    },
    {
     "name": "stderr",
     "output_type": "stream",
     "text": [
      "/home/monte.flora/miniconda3/envs/wofs_test/lib/python3.8/site-packages/sklearn/base.py:329: UserWarning: Trying to unpickle estimator IsotonicRegression from version 0.24.2 when using version 1.0.2. This might lead to breaking code or invalid results. Use at your own risk. For more info please refer to:\n",
      "https://scikit-learn.org/stable/modules/model_persistence.html#security-maintainability-limitations\n",
      "  warnings.warn(\n",
      "/tmp/ipykernel_956927/573257866.py:21: PerformanceWarning: DataFrame is highly fragmented.  This is usually the result of calling `frame.insert` many times, which has poor performance.  Consider joining all columns at once using pd.concat(axis=1) instead. To get a de-fragmented frame, use `newframe = frame.copy()`\n",
      "  df[f'Baseline__{target}'] = predictions\n"
     ]
    },
    {
     "name": "stdout",
     "output_type": "stream",
     "text": [
      "0\n",
      "Saving /work/mflora/ML_DATA/test_data/test_ml_dataset_second_hour_severe_hail.feather...\n"
     ]
    },
    {
     "name": "stderr",
     "output_type": "stream",
     "text": [
      "/home/monte.flora/miniconda3/envs/wofs_test/lib/python3.8/site-packages/sklearn/base.py:329: UserWarning: Trying to unpickle estimator IsotonicRegression from version 0.24.2 when using version 1.0.2. This might lead to breaking code or invalid results. Use at your own risk. For more info please refer to:\n",
      "https://scikit-learn.org/stable/modules/model_persistence.html#security-maintainability-limitations\n",
      "  warnings.warn(\n",
      "/tmp/ipykernel_956927/573257866.py:21: PerformanceWarning: DataFrame is highly fragmented.  This is usually the result of calling `frame.insert` many times, which has poor performance.  Consider joining all columns at once using pd.concat(axis=1) instead. To get a de-fragmented frame, use `newframe = frame.copy()`\n",
      "  df[f'Baseline__{target}'] = predictions\n"
     ]
    },
    {
     "name": "stdout",
     "output_type": "stream",
     "text": [
      "0\n",
      "Saving /work/mflora/ML_DATA/test_data/test_ml_dataset_second_hour_severe_wind.feather...\n"
     ]
    }
   ],
   "source": [
    "# test_ml_dataset_first_hour_tornado.feather\n",
    "path = '/work/mflora/ML_DATA/DATA'\n",
    "new_path = '/work/mflora/ML_DATA/test_data'\n",
    "#lead_time = 'first_hour'\n",
    "#target = 'tornado'\n",
    "\n",
    "for lead_time in ['first_hour', 'second_hour']:\n",
    "    for target in ['tornado', 'severe_hail', 'severe_wind']:\n",
    "        df = pd.read_pickle(join(path, f'{lead_time}_testing_matched_to_{target}_0km_dataset.pkl'))\n",
    "        # Convert all but the run time & date to float type.\n",
    "        objs = ['Run Time', 'Run Date']\n",
    "        dtypes = {c : float for c in df.columns if c not in objs}\n",
    "        dtypes['Run Date'] = int\n",
    "        df = df.astype(dtypes)\n",
    "        \n",
    "        # load the calibration models\n",
    "        model_path = '/work/mflora/ML_DATA/MODEL_SAVES'\n",
    "        model = joblib.load(join(model_path,\n",
    "                                 f'calibration_model_wofs_{lead_time}_{target}_{baseline_cols[target]}.joblib'))\n",
    "        predictions = model.predict(df[baseline_cols[target]].values)\n",
    "        df[f'Baseline__{target}'] = predictions \n",
    "\n",
    "        to_drop = [c for c in df.columns if 'prob_max' in c]\n",
    "        to_drop.append('label')\n",
    "        \n",
    "        dtypes  = {k : i for k,i in dtypes.items() if k not in to_drop}\n",
    "        \n",
    "        test_df_list = [pd.read_pickle(join(path, \n",
    "                        f'ml_dataset_{lead_time}_{year}_reverted_names.pkl')).astype(dtypes,errors='ignore')\n",
    "           for year in ['2020', '2021']]\n",
    "            \n",
    "        test_df_list.append(df)\n",
    "        test_df = pd.concat(test_df_list, axis=0)\n",
    "        test_df.reset_index(inplace=True, drop=True)\n",
    "        \n",
    "        columns_to_keep = [c for c in test_df.columns if c not in to_drop]\n",
    "        \n",
    "        test_df = test_df[columns_to_keep]\n",
    "        \n",
    "        out_file = join(new_path, f'test_ml_dataset_{lead_time}_{target}.feather')\n",
    "        \n",
    "        print(np.sum(np.isnan(test_df[f'Baseline__{target}'].values)))\n",
    "        print(f'Saving {out_file}...')\n",
    "        test_df.to_feather(out_file)  "
   ]
  }
 ],
 "metadata": {
  "kernelspec": {
   "display_name": "Python 3 (ipykernel)",
   "language": "python",
   "name": "python3"
  },
  "language_info": {
   "codemirror_mode": {
    "name": "ipython",
    "version": 3
   },
   "file_extension": ".py",
   "mimetype": "text/x-python",
   "name": "python",
   "nbconvert_exporter": "python",
   "pygments_lexer": "ipython3",
   "version": "3.8.10"
  }
 },
 "nbformat": 4,
 "nbformat_minor": 5
}
