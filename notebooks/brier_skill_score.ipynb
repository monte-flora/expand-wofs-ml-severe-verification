{
 "cells": [
  {
   "cell_type": "code",
   "execution_count": 4,
   "id": "dcfbdb50",
   "metadata": {},
   "outputs": [],
   "source": [
    "import numpy as np \n",
    "from sklearn.metrics import brier_score_loss"
   ]
  },
  {
   "cell_type": "code",
   "execution_count": 32,
   "id": "aa7f85bd",
   "metadata": {},
   "outputs": [],
   "source": [
    "N=10000\n",
    "rs = np.random.RandomState(123)\n",
    "forecasts = rs.uniform(0,1, size=N)\n",
    "other_forecasts = np.random.uniform(0,1, size=N)\n",
    "reliable_obs = np.where(other_forecasts<forecasts, 1, 0)"
   ]
  },
  {
   "cell_type": "code",
   "execution_count": 33,
   "id": "2c9c6fb1",
   "metadata": {},
   "outputs": [
    {
     "name": "stdout",
     "output_type": "stream",
     "text": [
      "BS:0.166\n"
     ]
    }
   ],
   "source": [
    "# BS for a climo forecast\n",
    "bs = brier_score_loss(reliable_obs, forecasts)\n",
    "print(f\"BS:{bs:0.3f}\")\n",
    "s = np.mean(reliable_obs)"
   ]
  },
  {
   "cell_type": "code",
   "execution_count": 34,
   "id": "c9a2f861",
   "metadata": {},
   "outputs": [
    {
     "data": {
      "text/plain": [
       "0.33588507768080156"
      ]
     },
     "execution_count": 34,
     "metadata": {},
     "output_type": "execute_result"
    }
   ],
   "source": [
    "1 - (brier_score_loss(reliable_obs, forecasts)/ brier_score_loss(reliable_obs, s*np.ones(forecasts.shape)))"
   ]
  },
  {
   "cell_type": "code",
   "execution_count": null,
   "id": "e961e62d",
   "metadata": {},
   "outputs": [],
   "source": []
  }
 ],
 "metadata": {
  "kernelspec": {
   "display_name": "Python 3 (ipykernel)",
   "language": "python",
   "name": "python3"
  },
  "language_info": {
   "codemirror_mode": {
    "name": "ipython",
    "version": 3
   },
   "file_extension": ".py",
   "mimetype": "text/x-python",
   "name": "python",
   "nbconvert_exporter": "python",
   "pygments_lexer": "ipython3",
   "version": "3.8.10"
  }
 },
 "nbformat": 4,
 "nbformat_minor": 5
}
