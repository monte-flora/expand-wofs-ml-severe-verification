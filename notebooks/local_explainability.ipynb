{
 "cells": [
  {
   "cell_type": "code",
   "execution_count": 1,
   "id": "a2c6fb9b",
   "metadata": {},
   "outputs": [],
   "source": [
    "import sys\n",
    "sys.path.append('/home/monte.flora/python_packages/scikit-explain/')\n",
    "sys.path.append('/home/monte.flora/python_packages/master/ml_workflow')\n",
    "\n",
    "import skexplain\n",
    "import shap\n",
    "\n",
    "from skexplain.plot.base_plotting import PlotStructure\n",
    "from skexplain.common.contrib_utils import get_indices_based_on_performance\n",
    "import numpy as np\n",
    "\n",
    "sys.path.append('/home/monte.flora/python_packages/wofs_ml_severe/wofs_ml_severe/explain')\n",
    "from display_names import to_readable_names, get_units\n",
    "from load_model_and_data import loader, known_skew"
   ]
  },
  {
   "cell_type": "code",
   "execution_count": 2,
   "id": "d62a4a7b",
   "metadata": {},
   "outputs": [],
   "source": [
    "lead_time = 'first_hour'\n",
    "target = 'severe_hail'\n",
    "\n",
    "(estimator, \n",
    "predictions,\n",
    "     X, y, \n",
    "     init_times, \n",
    "     test_dates,\n",
    "    fti) = loader(lead_time, target, return_model=True)\n",
    "\n",
    "feature_names = X.columns\n",
    "display_feature_names = {f : to_readable_names(f) for f in feature_names}\n",
    "display_units = {f : get_units(f) for f in feature_names}"
   ]
  },
  {
   "cell_type": "code",
   "execution_count": 3,
   "id": "14e63093",
   "metadata": {},
   "outputs": [],
   "source": [
    "late = ['0100', '0130', '0200', '0230', '0300']\n",
    "early = ['2000', '2030', '2100', '2130', '2200',]\n",
    "\n",
    "ml_predictions = predictions[0]\n",
    "\n",
    "\n",
    "inds = init_times.isin(late)\n",
    "X_subset = X[inds]\n",
    "X.reset_index(drop=True, inplace=True)\n",
    "y_subset = y[inds]\n",
    "ml_pred_subset = ml_predictions[inds]"
   ]
  },
  {
   "cell_type": "code",
   "execution_count": 4,
   "id": "7491c212",
   "metadata": {},
   "outputs": [],
   "source": [
    "#inds_dict = get_indices_based_on_performance(estimator[1], \n",
    "#                                             X_subset, y_subset,\n",
    "#                                             estimator_output='probability', n_samples=25)\n",
    "# dict_keys(['Best Hits', 'Worst Misses', 'Worst False Alarms', 'Best Corr. Negatives'])"
   ]
  },
  {
   "cell_type": "code",
   "execution_count": 5,
   "id": "7312a83b",
   "metadata": {},
   "outputs": [],
   "source": [
    "#inds_dict"
   ]
  },
  {
   "cell_type": "code",
   "execution_count": 8,
   "id": "acd2a097",
   "metadata": {},
   "outputs": [
    {
     "ename": "KeyError",
     "evalue": "'lime_kws is None, but lime_kws must contain training_data!'",
     "output_type": "error",
     "traceback": [
      "\u001b[0;31m---------------------------------------------------------------------------\u001b[0m",
      "\u001b[0;31mKeyError\u001b[0m                                  Traceback (most recent call last)",
      "Input \u001b[0;32mIn [8]\u001b[0m, in \u001b[0;36m<module>\u001b[0;34m\u001b[0m\n\u001b[1;32m      1\u001b[0m explainer \u001b[38;5;241m=\u001b[39m skexplain\u001b[38;5;241m.\u001b[39mExplainToolkit(estimator, \n\u001b[1;32m      2\u001b[0m                                     X\u001b[38;5;241m=\u001b[39mX_subset,\n\u001b[1;32m      3\u001b[0m                                     y\u001b[38;5;241m=\u001b[39my_subset\n\u001b[1;32m      4\u001b[0m                                    )\n\u001b[1;32m      6\u001b[0m \u001b[38;5;66;03m#shap_kwargs={'masker' : \u001b[39;00m\n\u001b[1;32m      7\u001b[0m \u001b[38;5;66;03m#                                          shap.maskers.Partition(X, max_samples=100, clustering=\"correlation\"), \u001b[39;00m\n\u001b[1;32m      8\u001b[0m \u001b[38;5;66;03m#                                             'algorithm' : 'auto'},\u001b[39;00m\n\u001b[0;32m---> 10\u001b[0m shap_ds \u001b[38;5;241m=\u001b[39m \u001b[43mexplainer\u001b[49m\u001b[38;5;241;43m.\u001b[39;49m\u001b[43mlocal_contributions\u001b[49m\u001b[43m(\u001b[49m\u001b[43mmethod\u001b[49m\u001b[38;5;241;43m=\u001b[39;49m\u001b[38;5;124;43m'\u001b[39;49m\u001b[38;5;124;43mlime\u001b[39;49m\u001b[38;5;124;43m'\u001b[39;49m\u001b[43m,\u001b[49m\u001b[43m \u001b[49m\n\u001b[1;32m     11\u001b[0m \u001b[43m                                        \u001b[49m\u001b[43mperformance_based\u001b[49m\u001b[38;5;241;43m=\u001b[39;49m\u001b[38;5;28;43;01mTrue\u001b[39;49;00m\u001b[43m,\u001b[49m\u001b[43m \u001b[49m\n\u001b[1;32m     12\u001b[0m \u001b[43m                                        \u001b[49m\u001b[43mn_samples\u001b[49m\u001b[38;5;241;43m=\u001b[39;49m\u001b[38;5;241;43m5\u001b[39;49m\u001b[43m,\u001b[49m\n\u001b[1;32m     13\u001b[0m \u001b[43m                                        \u001b[49m\u001b[43mlime_kws\u001b[49m\u001b[43m \u001b[49m\u001b[38;5;241;43m=\u001b[39;49m\u001b[43m \u001b[49m\u001b[43m{\u001b[49m\u001b[38;5;124;43m'\u001b[39;49m\u001b[38;5;124;43mtraining_data\u001b[39;49m\u001b[38;5;124;43m'\u001b[39;49m\u001b[43m \u001b[49m\u001b[43m:\u001b[49m\u001b[43m \u001b[49m\u001b[43mX\u001b[49m\u001b[43m}\u001b[49m\u001b[43m,\u001b[49m\n\u001b[1;32m     14\u001b[0m \u001b[43m                                       \u001b[49m\u001b[43m)\u001b[49m\n",
      "File \u001b[0;32m~/python_packages/scikit-explain/skexplain/main/explain_toolkit.py:1751\u001b[0m, in \u001b[0;36mExplainToolkit.local_contributions\u001b[0;34m(self, method, performance_based, n_samples, shap_kwargs, lime_kws)\u001b[0m\n\u001b[1;32m   1746\u001b[0m \u001b[38;5;28;01mif\u001b[39;00m method \u001b[38;5;129;01mnot\u001b[39;00m \u001b[38;5;129;01min\u001b[39;00m [\u001b[38;5;124m\"\u001b[39m\u001b[38;5;124mshap\u001b[39m\u001b[38;5;124m\"\u001b[39m, \u001b[38;5;124m\"\u001b[39m\u001b[38;5;124mtree_interpreter\u001b[39m\u001b[38;5;124m\"\u001b[39m, \u001b[38;5;124m\"\u001b[39m\u001b[38;5;124mlime\u001b[39m\u001b[38;5;124m\"\u001b[39m]:\n\u001b[1;32m   1747\u001b[0m     \u001b[38;5;28;01mraise\u001b[39;00m \u001b[38;5;167;01mValueError\u001b[39;00m(\n\u001b[1;32m   1748\u001b[0m         \u001b[38;5;124m\"\u001b[39m\u001b[38;5;124mInvalid method! Method must be \u001b[39m\u001b[38;5;124m'\u001b[39m\u001b[38;5;124mshap\u001b[39m\u001b[38;5;124m'\u001b[39m\u001b[38;5;124m, \u001b[39m\u001b[38;5;124m'\u001b[39m\u001b[38;5;124mtree_interpreter\u001b[39m\u001b[38;5;124m'\u001b[39m\u001b[38;5;124m, \u001b[39m\u001b[38;5;124m'\u001b[39m\u001b[38;5;124mlime\u001b[39m\u001b[38;5;124m'\u001b[39m\u001b[38;5;124m\"\u001b[39m\n\u001b[1;32m   1749\u001b[0m     )\n\u001b[0;32m-> 1751\u001b[0m results_df \u001b[38;5;241m=\u001b[39m \u001b[38;5;28;43mself\u001b[39;49m\u001b[38;5;241;43m.\u001b[39;49m\u001b[43mlocal_obj\u001b[49m\u001b[38;5;241;43m.\u001b[39;49m\u001b[43m_get_local_prediction\u001b[49m\u001b[43m(\u001b[49m\n\u001b[1;32m   1752\u001b[0m \u001b[43m    \u001b[49m\u001b[43mmethod\u001b[49m\u001b[38;5;241;43m=\u001b[39;49m\u001b[43mmethod\u001b[49m\u001b[43m,\u001b[49m\n\u001b[1;32m   1753\u001b[0m \u001b[43m    \u001b[49m\u001b[43mperformance_based\u001b[49m\u001b[38;5;241;43m=\u001b[39;49m\u001b[43mperformance_based\u001b[49m\u001b[43m,\u001b[49m\n\u001b[1;32m   1754\u001b[0m \u001b[43m    \u001b[49m\u001b[43mn_samples\u001b[49m\u001b[38;5;241;43m=\u001b[39;49m\u001b[43mn_samples\u001b[49m\u001b[43m,\u001b[49m\n\u001b[1;32m   1755\u001b[0m \u001b[43m    \u001b[49m\u001b[43mshap_kwargs\u001b[49m\u001b[38;5;241;43m=\u001b[39;49m\u001b[43mshap_kwargs\u001b[49m\u001b[43m,\u001b[49m\n\u001b[1;32m   1756\u001b[0m \u001b[43m    \u001b[49m\u001b[43mlime_kws\u001b[49m\u001b[38;5;241;43m=\u001b[39;49m\u001b[43mlime_kws\u001b[49m\u001b[43m,\u001b[49m\n\u001b[1;32m   1757\u001b[0m \u001b[43m\u001b[49m\u001b[43m)\u001b[49m\n\u001b[1;32m   1759\u001b[0m \u001b[38;5;66;03m# Add metadata\u001b[39;00m\n\u001b[1;32m   1760\u001b[0m \u001b[38;5;28mself\u001b[39m\u001b[38;5;241m.\u001b[39mattrs_dict[\u001b[38;5;124m\"\u001b[39m\u001b[38;5;124mmethod\u001b[39m\u001b[38;5;124m\"\u001b[39m] \u001b[38;5;241m=\u001b[39m method\n",
      "File \u001b[0;32m~/python_packages/scikit-explain/skexplain/main/local_explainer.py:183\u001b[0m, in \u001b[0;36mLocalExplainer._get_local_prediction\u001b[0;34m(self, method, performance_based, n_samples, shap_kwargs, lime_kws)\u001b[0m\n\u001b[1;32m    174\u001b[0m performance_dict \u001b[38;5;241m=\u001b[39m get_indices_based_on_performance(\n\u001b[1;32m    175\u001b[0m     estimator,\n\u001b[1;32m    176\u001b[0m     X\u001b[38;5;241m=\u001b[39m\u001b[38;5;28mself\u001b[39m\u001b[38;5;241m.\u001b[39mX,\n\u001b[0;32m   (...)\u001b[0m\n\u001b[1;32m    179\u001b[0m     estimator_output\u001b[38;5;241m=\u001b[39m\u001b[38;5;28mself\u001b[39m\u001b[38;5;241m.\u001b[39mestimator_output,\n\u001b[1;32m    180\u001b[0m )\n\u001b[1;32m    182\u001b[0m \u001b[38;5;28;01mfor\u001b[39;00m key, indices \u001b[38;5;129;01min\u001b[39;00m performance_dict\u001b[38;5;241m.\u001b[39mitems():\n\u001b[0;32m--> 183\u001b[0m     cont_dict \u001b[38;5;241m=\u001b[39m \u001b[38;5;28;43mself\u001b[39;49m\u001b[38;5;241;43m.\u001b[39;49m\u001b[43m_get_feature_contributions\u001b[49m\u001b[43m(\u001b[49m\n\u001b[1;32m    184\u001b[0m \u001b[43m        \u001b[49m\u001b[43mestimator\u001b[49m\u001b[38;5;241;43m=\u001b[39;49m\u001b[43mestimator\u001b[49m\u001b[43m,\u001b[49m\n\u001b[1;32m    185\u001b[0m \u001b[43m        \u001b[49m\u001b[43mX\u001b[49m\u001b[38;5;241;43m=\u001b[39;49m\u001b[38;5;28;43mself\u001b[39;49m\u001b[38;5;241;43m.\u001b[39;49m\u001b[43mX\u001b[49m\u001b[38;5;241;43m.\u001b[39;49m\u001b[43miloc\u001b[49m\u001b[43m[\u001b[49m\u001b[43mindices\u001b[49m\u001b[43m,\u001b[49m\u001b[43m \u001b[49m\u001b[43m:\u001b[49m\u001b[43m]\u001b[49m\u001b[43m,\u001b[49m\n\u001b[1;32m    186\u001b[0m \u001b[43m        \u001b[49m\u001b[43mshap_kwargs\u001b[49m\u001b[38;5;241;43m=\u001b[39;49m\u001b[43mshap_kwargs\u001b[49m\u001b[43m,\u001b[49m\n\u001b[1;32m    187\u001b[0m \u001b[43m    \u001b[49m\u001b[43m)\u001b[49m\n\u001b[1;32m    189\u001b[0m     contributions_dict[estimator_name][key] \u001b[38;5;241m=\u001b[39m cont_dict\n\u001b[1;32m    190\u001b[0m     feature_values_dict[estimator_name][key] \u001b[38;5;241m=\u001b[39m \u001b[38;5;28mself\u001b[39m\u001b[38;5;241m.\u001b[39mX\u001b[38;5;241m.\u001b[39miloc[indices, :]\n",
      "File \u001b[0;32m~/python_packages/scikit-explain/skexplain/main/local_explainer.py:346\u001b[0m, in \u001b[0;36mLocalExplainer._get_feature_contributions\u001b[0;34m(self, estimator, X, shap_kwargs, lime_kws)\u001b[0m\n\u001b[1;32m    344\u001b[0m     contributions, bias \u001b[38;5;241m=\u001b[39m \u001b[38;5;28mself\u001b[39m\u001b[38;5;241m.\u001b[39m_get_ti_values(estimator, X)\n\u001b[1;32m    345\u001b[0m \u001b[38;5;28;01melif\u001b[39;00m \u001b[38;5;28mself\u001b[39m\u001b[38;5;241m.\u001b[39mmethod \u001b[38;5;241m==\u001b[39m \u001b[38;5;124m'\u001b[39m\u001b[38;5;124mlime\u001b[39m\u001b[38;5;124m'\u001b[39m:\n\u001b[0;32m--> 346\u001b[0m     contributions, bias \u001b[38;5;241m=\u001b[39m \u001b[38;5;28;43mself\u001b[39;49m\u001b[38;5;241;43m.\u001b[39;49m\u001b[43m_get_lime_values\u001b[49m\u001b[43m(\u001b[49m\u001b[43mestimator\u001b[49m\u001b[43m,\u001b[49m\u001b[43m \u001b[49m\u001b[43mX\u001b[49m\u001b[43m,\u001b[49m\u001b[43m \u001b[49m\u001b[43mlime_kws\u001b[49m\u001b[43m)\u001b[49m\n\u001b[1;32m    348\u001b[0m n_samples \u001b[38;5;241m=\u001b[39m \u001b[38;5;28mlen\u001b[39m(X)\n\u001b[1;32m    349\u001b[0m columns \u001b[38;5;241m=\u001b[39m \u001b[38;5;28mself\u001b[39m\u001b[38;5;241m.\u001b[39mfeature_names \u001b[38;5;241m+\u001b[39m [\u001b[38;5;124m\"\u001b[39m\u001b[38;5;124mBias\u001b[39m\u001b[38;5;124m\"\u001b[39m]\n",
      "File \u001b[0;32m~/python_packages/scikit-explain/skexplain/main/local_explainer.py:290\u001b[0m, in \u001b[0;36mLocalExplainer._get_lime_values\u001b[0;34m(self, estimator, X, lime_kws)\u001b[0m\n\u001b[1;32m    286\u001b[0m \u001b[38;5;124;03m\"\"\"\u001b[39;00m\n\u001b[1;32m    287\u001b[0m \u001b[38;5;124;03mCompute the Local Interpretable Model-Agnostic Explanations\u001b[39;00m\n\u001b[1;32m    288\u001b[0m \u001b[38;5;124;03m\"\"\"\u001b[39;00m\n\u001b[1;32m    289\u001b[0m \u001b[38;5;28;01mif\u001b[39;00m lime_kws \u001b[38;5;129;01mis\u001b[39;00m \u001b[38;5;28;01mNone\u001b[39;00m:\n\u001b[0;32m--> 290\u001b[0m     \u001b[38;5;28;01mraise\u001b[39;00m \u001b[38;5;167;01mKeyError\u001b[39;00m(\u001b[38;5;124m'\u001b[39m\u001b[38;5;124mlime_kws is None, but lime_kws must contain training_data!\u001b[39m\u001b[38;5;124m'\u001b[39m)\n\u001b[1;32m    292\u001b[0m lime_kws[\u001b[38;5;124m'\u001b[39m\u001b[38;5;124mfeature_names\u001b[39m\u001b[38;5;124m'\u001b[39m] \u001b[38;5;241m=\u001b[39m X\u001b[38;5;241m.\u001b[39mcolumns\n\u001b[1;32m    294\u001b[0m \u001b[38;5;66;03m# Determine categorical features\u001b[39;00m\n",
      "\u001b[0;31mKeyError\u001b[0m: 'lime_kws is None, but lime_kws must contain training_data!'"
     ]
    }
   ],
   "source": [
    "explainer = skexplain.ExplainToolkit(estimator, \n",
    "                                    X=X_subset,\n",
    "                                    y=y_subset\n",
    "                                   )\n",
    "\n",
    "#shap_kwargs={'masker' : \n",
    "#                                          shap.maskers.Partition(X, max_samples=100, clustering=\"correlation\"), \n",
    "#                                             'algorithm' : 'auto'},\n",
    "\n",
    "shap_ds = explainer.local_contributions(method='lime', \n",
    "                                        performance_based=True, \n",
    "                                        n_samples=5,\n",
    "                                        lime_kws = {'training_data' : X},\n",
    "                                        shap_kwargs=shap_kwargs, \n",
    "                                       )\n",
    "\n",
    "#shap_ds.to_pickle(f\"shap_ds_results_{key.replace(' ', '_')}.pkl\")"
   ]
  },
  {
   "cell_type": "code",
   "execution_count": null,
   "id": "0f37b899",
   "metadata": {},
   "outputs": [],
   "source": [
    "explainer.plot_contributions(\n",
    "                               contrib=shap_ds,\n",
    "                               display_feature_names=display_feature_names,\n",
    "                               display_units = display_units,\n",
    "                                )"
   ]
  },
  {
   "cell_type": "code",
   "execution_count": null,
   "id": "e2627ffd",
   "metadata": {},
   "outputs": [],
   "source": []
  }
 ],
 "metadata": {
  "kernelspec": {
   "display_name": "Python 3 (ipykernel)",
   "language": "python",
   "name": "python3"
  },
  "language_info": {
   "codemirror_mode": {
    "name": "ipython",
    "version": 3
   },
   "file_extension": ".py",
   "mimetype": "text/x-python",
   "name": "python",
   "nbconvert_exporter": "python",
   "pygments_lexer": "ipython3",
   "version": "3.8.10"
  }
 },
 "nbformat": 4,
 "nbformat_minor": 5
}
